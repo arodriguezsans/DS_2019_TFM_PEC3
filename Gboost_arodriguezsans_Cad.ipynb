{
 "cells": [
  {
   "cell_type": "markdown",
   "metadata": {},
   "source": [
    "# Cádiz"
   ]
  },
  {
   "cell_type": "markdown",
   "metadata": {},
   "source": [
    "## Gradient Boosting Trees"
   ]
  },
  {
   "cell_type": "markdown",
   "metadata": {},
   "source": [
    "### Gradient Boosting Regressor"
   ]
  },
  {
   "cell_type": "code",
   "execution_count": 1,
   "metadata": {},
   "outputs": [],
   "source": [
    "import numpy as np\n",
    "import pandas as pd\n",
    "\n",
    "import matplotlib.pyplot as plt\n",
    "\n",
    "from sklearn.ensemble import GradientBoostingRegressor\n",
    "from sklearn.metrics import mean_squared_error\n",
    "from sklearn.model_selection import cross_val_score\n",
    "from sklearn.model_selection import train_test_split\n",
    "from sklearn.model_selection import RepeatedKFold\n",
    "from sklearn.model_selection import KFold\n",
    "from sklearn.model_selection import GridSearchCV\n",
    "from sklearn.model_selection import ParameterGrid\n",
    "from sklearn.preprocessing import MinMaxScaler \n",
    "from sklearn.inspection import permutation_importance\n",
    "from sklearn.metrics import mean_absolute_error, mean_squared_error\n",
    "\n",
    "import multiprocessing\n",
    "\n",
    "import warnings\n",
    "warnings.filterwarnings('once')"
   ]
  },
  {
   "cell_type": "code",
   "execution_count": 2,
   "metadata": {},
   "outputs": [
    {
     "name": "stderr",
     "output_type": "stream",
     "text": [
      "C:\\ProgramData\\Anaconda3\\lib\\site-packages\\ipykernel\\ipkernel.py:287: DeprecationWarning: `should_run_async` will not call `transform_cell` automatically in the future. Please pass the result to `transformed_cell` argument and any exception that happen during thetransform in `preprocessing_exc_tuple` in IPython 7.17 and above.\n",
      "  and should_run_async(code)\n"
     ]
    },
    {
     "data": {
      "text/plain": [
       "Index(['sub_region_2', 'fecha', 'provincia_iso', 'num_casos.x',\n",
       "       'num_casos_prueba_pcr', 'num_casos_prueba_test_ac',\n",
       "       'num_casos_prueba_ag', 'num_casos_prueba_elisa',\n",
       "       'num_casos_prueba_desconocida', 'num_casos.y', 'num_hosp', 'num_uci',\n",
       "       'num_def', 'retail_and_recreation_percent_change_from_baseline',\n",
       "       'grocery_and_pharmacy_percent_change_from_baseline',\n",
       "       'parks_percent_change_from_baseline',\n",
       "       'transit_stations_percent_change_from_baseline',\n",
       "       'workplaces_percent_change_from_baseline',\n",
       "       'residential_percent_change_from_baseline', 'total'],\n",
       "      dtype='object')"
      ]
     },
     "execution_count": 2,
     "metadata": {},
     "output_type": "execute_result"
    }
   ],
   "source": [
    "df_total = pd.read_excel('Total.xls')\n",
    "# Edit columns names + Lower case column names\n",
    "df_total.columns = map(str.lower, df_total.columns)\n",
    "df_total.columns"
   ]
  },
  {
   "cell_type": "code",
   "execution_count": 3,
   "metadata": {},
   "outputs": [],
   "source": [
    "Cad = df_total.loc[df_total['sub_region_2'] == 'Cádiz']"
   ]
  },
  {
   "cell_type": "code",
   "execution_count": 4,
   "metadata": {},
   "outputs": [],
   "source": [
    "# Set index \n",
    "Cad = Cad.set_index('fecha')"
   ]
  },
  {
   "cell_type": "code",
   "execution_count": 5,
   "metadata": {},
   "outputs": [],
   "source": [
    "# We select columns of interest (mobility ones)\n",
    "Cad = Cad[['num_casos.x']+['num_casos_prueba_pcr']+ list(Cad.loc[:,'retail_and_recreation_percent_change_from_baseline':'total'])]"
   ]
  },
  {
   "cell_type": "code",
   "execution_count": 6,
   "metadata": {},
   "outputs": [],
   "source": [
    "# We create train and test datasets as in previous scenarios\n",
    "X_train, X_test, y_train, y_test = train_test_split( #Cad,\n",
    "                                                    Cad.drop(columns = 'num_casos.x'),                                                    \n",
    "                                                    Cad['num_casos.x'],\n",
    "                                                    shuffle = False, stratify = None, \n",
    "                                                    train_size=0.942)"
   ]
  },
  {
   "cell_type": "code",
   "execution_count": 7,
   "metadata": {},
   "outputs": [
    {
     "data": {
      "text/plain": [
       "pandas.core.series.Series"
      ]
     },
     "execution_count": 7,
     "metadata": {},
     "output_type": "execute_result"
    }
   ],
   "source": [
    "type(y_test)"
   ]
  },
  {
   "cell_type": "code",
   "execution_count": 8,
   "metadata": {},
   "outputs": [
    {
     "data": {
      "text/plain": [
       "pandas.core.frame.DataFrame"
      ]
     },
     "execution_count": 8,
     "metadata": {},
     "output_type": "execute_result"
    }
   ],
   "source": [
    "type(X_test)"
   ]
  },
  {
   "cell_type": "code",
   "execution_count": 9,
   "metadata": {},
   "outputs": [],
   "source": [
    "#X_test"
   ]
  },
  {
   "cell_type": "code",
   "execution_count": 10,
   "metadata": {},
   "outputs": [
    {
     "name": "stdout",
     "output_type": "stream",
     "text": [
      " RMSE: 82.83093726071736\n"
     ]
    }
   ],
   "source": [
    "# Model generation\n",
    "model = GradientBoostingRegressor(n_estimators = 10,\n",
    "                                  loss         = 'ls',\n",
    "                                  max_features = 'auto',\n",
    "                                  random_state = 123)\n",
    "\n",
    "model.fit(X_train, y_train)\n",
    "\n",
    "# Prediction\n",
    "predictions = model.predict(X = X_test)\n",
    "rmse = mean_squared_error(y_test, predictions, squared = False)\n",
    "print(f\" RMSE: {rmse}\")"
   ]
  },
  {
   "cell_type": "code",
   "execution_count": 11,
   "metadata": {},
   "outputs": [
    {
     "name": "stderr",
     "output_type": "stream",
     "text": [
      "C:\\ProgramData\\Anaconda3\\lib\\site-packages\\ipykernel\\ipkernel.py:287: DeprecationWarning: `should_run_async` will not call `transform_cell` automatically in the future. Please pass the result to `transformed_cell` argument and any exception that happen during thetransform in `preprocessing_exc_tuple` in IPython 7.17 and above.\n",
      "  and should_run_async(code)\n"
     ]
    },
    {
     "name": "stdout",
     "output_type": "stream",
     "text": [
      "Optimal n_estimators: 76\n"
     ]
    },
    {
     "data": {
      "image/png": "[encoded data removed]",
      "text/plain": [
       "<Figure size 432x288 with 1 Axes>"
      ]
     },
     "metadata": {
      "needs_background": "light"
     },
     "output_type": "display_data"
    }
   ],
   "source": [
    "# Validation with k-cross-validation and neg_root_mean_squared_error\n",
    "train_scores = []\n",
    "cv_scores    = []\n",
    "\n",
    "# Values used\n",
    "estimator_range = range(1, 500, 25)\n",
    "\n",
    "# Train esach model with each values for n_estimators and extract its error\n",
    "# test and k-cross-validation.\n",
    "for n_estimators in estimator_range:    \n",
    "    model = GradientBoostingRegressor(\n",
    "                n_estimators = n_estimators,\n",
    "                loss         = 'ls',\n",
    "                max_features = 'auto',\n",
    "                random_state = 123)\n",
    "    \n",
    "    # Error train\n",
    "    model.fit(X_train, y_train)\n",
    "    predictions = model.predict(X = X_train)\n",
    "    rmse = mean_squared_error(\n",
    "            y_true  = y_train,\n",
    "            y_pred  = predictions,\n",
    "            squared = False\n",
    "           )\n",
    "    train_scores.append(rmse)    \n",
    "    # Error cv\n",
    "    scores = cross_val_score(\n",
    "                estimator = model,\n",
    "                X         = X_train,\n",
    "                y         = y_train,\n",
    "                scoring   = 'neg_root_mean_squared_error',\n",
    "                cv        = 5,\n",
    "                n_jobs    = multiprocessing.cpu_count() - 1,\n",
    "             )\n",
    "    # aggregate scores cross_val_score() and pass to possitive\n",
    "    cv_scores.append(-1*scores.mean())\n",
    "    \n",
    "# plot error evolution\n",
    "fig, ax = plt.subplots(figsize=(6, 4))\n",
    "ax.plot(estimator_range, train_scores, label=\"train scores\")\n",
    "ax.plot(estimator_range, cv_scores, label=\"cv scores\")\n",
    "ax.plot(estimator_range[np.argmin(cv_scores)], min(cv_scores),\n",
    "        marker='o', color = \"red\", label=\"min score\")\n",
    "ax.set_ylabel(\"root_mean_squared_error\")\n",
    "ax.set_xlabel(\"n_estimators\")\n",
    "ax.set_title(\"Evolution cv-error vs nº trees\")\n",
    "plt.legend();\n",
    "print(f\"Optimal n_estimators: {estimator_range[np.argmin(cv_scores)]}\")"
   ]
  },
  {
   "cell_type": "code",
   "execution_count": 12,
   "metadata": {},
   "outputs": [
    {
     "name": "stderr",
     "output_type": "stream",
     "text": [
      "C:\\ProgramData\\Anaconda3\\lib\\site-packages\\ipykernel\\ipkernel.py:287: DeprecationWarning: `should_run_async` will not call `transform_cell` automatically in the future. Please pass the result to `transformed_cell` argument and any exception that happen during thetransform in `preprocessing_exc_tuple` in IPython 7.17 and above.\n",
      "  and should_run_async(code)\n"
     ]
    }
   ],
   "source": [
    "# Validation k-cross-validation and neg_root_mean_squared_error\n",
    "results = {}\n",
    "\n",
    "# Values used\n",
    "learning_rates = [0.001, 0.01, 0.1]\n",
    "n_estimators   = [10, 20, 100, 200, 300, 400, 500, 1000, 2000, 5000]\n",
    "\n",
    "# model train for each combination of learning_rate + n_estimator \n",
    "# we get the error for tain and k-cross-validation.\n",
    "for learning_rate in learning_rates:\n",
    "    train_scores = []\n",
    "    cv_scores    = []\n",
    "    \n",
    "    for n_estimator in n_estimators:\n",
    "    \n",
    "        model = GradientBoostingRegressor(\n",
    "                    n_estimators  = n_estimator,\n",
    "                    learning_rate = learning_rate,\n",
    "                    loss          = 'ls',\n",
    "                    max_features  = 'auto',\n",
    "                    random_state  = 123\n",
    "                 )\n",
    "\n",
    "        # Error train\n",
    "        model.fit(X_train, y_train)\n",
    "        predictions = model.predict(X = X_train)\n",
    "        rmse = mean_squared_error(\n",
    "                y_true  = y_train,\n",
    "                y_pred  = predictions,\n",
    "                squared = False\n",
    "               )\n",
    "        train_scores.append(rmse)\n",
    "\n",
    "        # Error CV\n",
    "        scores = cross_val_score(\n",
    "                    estimator = model,\n",
    "                    X         = X_train,\n",
    "                    y         = y_train,\n",
    "                    scoring   = 'neg_root_mean_squared_error',\n",
    "                    cv        = 3,\n",
    "                    n_jobs    = multiprocessing.cpu_count() - 1\n",
    "                 )\n",
    "        # aggregate scores cross_val_score() and pass to possitive\n",
    "        cv_scores.append(-1*scores.mean())     \n",
    "        \n",
    "    results[learning_rate] = {'train_scores': train_scores, 'cv_scores': cv_scores}"
   ]
  },
  {
   "cell_type": "code",
   "execution_count": 13,
   "metadata": {},
   "outputs": [
    {
     "name": "stderr",
     "output_type": "stream",
     "text": [
      "C:\\ProgramData\\Anaconda3\\lib\\site-packages\\ipykernel\\ipkernel.py:287: DeprecationWarning: `should_run_async` will not call `transform_cell` automatically in the future. Please pass the result to `transformed_cell` argument and any exception that happen during thetransform in `preprocessing_exc_tuple` in IPython 7.17 and above.\n",
      "  and should_run_async(code)\n"
     ]
    },
    {
     "data": {
      "image/png": "[encoded data removed]",
      "text/plain": [
       "<Figure size 864x288 with 2 Axes>"
      ]
     },
     "metadata": {
      "needs_background": "light"
     },
     "output_type": "display_data"
    }
   ],
   "source": [
    "# plot error evolution\n",
    "fig, axs = plt.subplots(nrows=1, ncols=2, figsize=(12, 4))\n",
    "\n",
    "for key, value in results.items():\n",
    "    axs[0].plot(n_estimators, value['train_scores'], label=f\"Learning rate {key}\")\n",
    "    axs[0].set_ylabel(\"root_mean_squared_error\")\n",
    "    axs[0].set_xlabel(\"n_estimators\")\n",
    "    axs[0].set_title(\"Evolution train error vs learning rate\")\n",
    "    \n",
    "    axs[1].plot(n_estimators, value['cv_scores'], label=f\"Learning rate {key}\")\n",
    "    axs[1].set_ylabel(\"root_mean_squared_error\")\n",
    "    axs[1].set_xlabel(\"n_estimators\")\n",
    "    axs[1].set_title(\"Evolution cv-error vs learning rate\")\n",
    "    plt.legend();"
   ]
  },
  {
   "cell_type": "code",
   "execution_count": 14,
   "metadata": {},
   "outputs": [
    {
     "name": "stdout",
     "output_type": "stream",
     "text": [
      "Optimal max_depth: 3\n"
     ]
    },
    {
     "data": {
      "image/png": "[encoded data removed]",
      "text/plain": [
       "<Figure size 432x276.48 with 1 Axes>"
      ]
     },
     "metadata": {
      "needs_background": "light"
     },
     "output_type": "display_data"
    }
   ],
   "source": [
    "# Validation k-cross-validation and neg_root_mean_squared_error\n",
    "train_scores = []\n",
    "cv_scores    = []\n",
    "\n",
    "# Values used\n",
    "max_depths = [1, 3, 5, 10, 20]\n",
    "\n",
    "# Train model for each max_depth\n",
    "for max_depth in max_depths:\n",
    "    \n",
    "    model = GradientBoostingRegressor(\n",
    "                n_estimators = 100,\n",
    "                loss         = 'ls',\n",
    "                max_depth    = max_depth,\n",
    "                max_features = 'auto',\n",
    "                random_state = 123\n",
    "             )\n",
    "    \n",
    "    # Error train\n",
    "    model.fit(X_train, y_train)\n",
    "    predictions = model.predict(X = X_train)\n",
    "    rmse = mean_squared_error(\n",
    "            y_true  = y_train,\n",
    "            y_pred  = predictions,\n",
    "            squared = False\n",
    "           )\n",
    "    train_scores.append(rmse)\n",
    "    \n",
    "    # Error CV\n",
    "    scores = cross_val_score(\n",
    "                estimator = model,\n",
    "                X         = X_train,\n",
    "                y         = y_train,\n",
    "                scoring   = 'neg_root_mean_squared_error',\n",
    "                cv        = 5,\n",
    "                n_jobs    = multiprocessing.cpu_count() - 1\n",
    "             )\n",
    "    # aggregate scores cross_val_score() pass to possitve\n",
    "    cv_scores.append(-1*scores.mean())\n",
    "    \n",
    "# plots erros evolution\n",
    "fig, ax = plt.subplots(figsize=(6, 3.84))\n",
    "ax.plot(max_depths, train_scores, label=\"train scores\")\n",
    "ax.plot(max_depths, cv_scores, label=\"cv scores\")\n",
    "ax.plot(max_depths[np.argmin(cv_scores)], min(cv_scores),\n",
    "        marker='o', color = \"red\", label=\"min score\")\n",
    "ax.set_ylabel(\"root_mean_squared_error\")\n",
    "ax.set_xlabel(\"max_depth\")\n",
    "ax.set_title(\"Evolution cv-error vs depth trees\")\n",
    "plt.legend();\n",
    "print(f\"Optimal max_depth: {max_depths[np.argmin(cv_scores)]}\")"
   ]
  },
  {
   "cell_type": "code",
   "execution_count": 15,
   "metadata": {},
   "outputs": [
    {
     "name": "stderr",
     "output_type": "stream",
     "text": [
      "C:\\ProgramData\\Anaconda3\\lib\\site-packages\\ipykernel\\ipkernel.py:287: DeprecationWarning: `should_run_async` will not call `transform_cell` automatically in the future. Please pass the result to `transformed_cell` argument and any exception that happen during thetransform in `preprocessing_exc_tuple` in IPython 7.17 and above.\n",
      "  and should_run_async(code)\n"
     ]
    },
    {
     "data": {
      "text/html": [
       "<div>\n",
       "<style scoped>\n",
       "    .dataframe tbody tr th:only-of-type {\n",
       "        vertical-align: middle;\n",
       "    }\n",
       "\n",
       "    .dataframe tbody tr th {\n",
       "        vertical-align: top;\n",
       "    }\n",
       "\n",
       "    .dataframe thead th {\n",
       "        text-align: right;\n",
       "    }\n",
       "</style>\n",
       "<table border=\"1\" class=\"dataframe\">\n",
       "  <thead>\n",
       "    <tr style=\"text-align: right;\">\n",
       "      <th></th>\n",
       "      <th>param_learning_rate</th>\n",
       "      <th>param_max_depth</th>\n",
       "      <th>param_max_features</th>\n",
       "      <th>param_subsample</th>\n",
       "      <th>mean_test_score</th>\n",
       "      <th>std_test_score</th>\n",
       "      <th>mean_train_score</th>\n",
       "      <th>std_train_score</th>\n",
       "    </tr>\n",
       "  </thead>\n",
       "  <tbody>\n",
       "    <tr>\n",
       "      <th>85</th>\n",
       "      <td>0.1</td>\n",
       "      <td>3</td>\n",
       "      <td>auto</td>\n",
       "      <td>1</td>\n",
       "      <td>-14.063480</td>\n",
       "      <td>3.852277</td>\n",
       "      <td>-5.717723</td>\n",
       "      <td>0.545169</td>\n",
       "    </tr>\n",
       "    <tr>\n",
       "      <th>49</th>\n",
       "      <td>0.01</td>\n",
       "      <td>3</td>\n",
       "      <td>auto</td>\n",
       "      <td>1</td>\n",
       "      <td>-14.348478</td>\n",
       "      <td>3.821078</td>\n",
       "      <td>-6.734509</td>\n",
       "      <td>0.428128</td>\n",
       "    </tr>\n",
       "    <tr>\n",
       "      <th>66</th>\n",
       "      <td>0.01</td>\n",
       "      <td>20</td>\n",
       "      <td>auto</td>\n",
       "      <td>0.5</td>\n",
       "      <td>-14.426820</td>\n",
       "      <td>2.981705</td>\n",
       "      <td>-6.288895</td>\n",
       "      <td>0.659022</td>\n",
       "    </tr>\n",
       "    <tr>\n",
       "      <th>36</th>\n",
       "      <td>0.01</td>\n",
       "      <td>None</td>\n",
       "      <td>auto</td>\n",
       "      <td>0.5</td>\n",
       "      <td>-14.439484</td>\n",
       "      <td>2.995106</td>\n",
       "      <td>-6.303719</td>\n",
       "      <td>0.656911</td>\n",
       "    </tr>\n",
       "  </tbody>\n",
       "</table>\n",
       "</div>"
      ],
      "text/plain": [
       "   param_learning_rate param_max_depth param_max_features param_subsample  \\\n",
       "85                 0.1               3               auto               1   \n",
       "49                0.01               3               auto               1   \n",
       "66                0.01              20               auto             0.5   \n",
       "36                0.01            None               auto             0.5   \n",
       "\n",
       "    mean_test_score  std_test_score  mean_train_score  std_train_score  \n",
       "85       -14.063480        3.852277         -5.717723         0.545169  \n",
       "49       -14.348478        3.821078         -6.734509         0.428128  \n",
       "66       -14.426820        2.981705         -6.288895         0.659022  \n",
       "36       -14.439484        2.995106         -6.303719         0.656911  "
      ]
     },
     "execution_count": 15,
     "metadata": {},
     "output_type": "execute_result"
    }
   ],
   "source": [
    "# Grid hyperparmeters\n",
    "param_grid = {'max_features'  : ['auto', 'sqrt', 'log2'],\n",
    "              'max_depth'     : [None, 1, 3, 5, 10, 20],\n",
    "              'subsample'     : [0.5, 1],\n",
    "              'learning_rate' : [0.001, 0.01, 0.1]\n",
    "             }\n",
    "\n",
    "# Grid-search with cv\n",
    "grid = GridSearchCV(\n",
    "        estimator  = GradientBoostingRegressor(\n",
    "                        n_estimators        = 1000, \n",
    "                        random_state        = 123,\n",
    "                        # Early stop #\n",
    "                        validation_fraction = 0.1,\n",
    "                        n_iter_no_change    = 5,\n",
    "                        tol                 = 0.0001\n",
    "                    ),\n",
    "        param_grid = param_grid,\n",
    "        scoring    = 'neg_root_mean_squared_error',\n",
    "        n_jobs     = multiprocessing.cpu_count() - 1,\n",
    "        cv         = RepeatedKFold(n_splits=3, n_repeats=1, random_state=123), \n",
    "        refit      = True,\n",
    "        verbose    = 0,\n",
    "        return_train_score = True\n",
    "       )\n",
    "\n",
    "grid.fit(X = X_train, y = y_train)\n",
    "\n",
    "# Results\n",
    "results = pd.DataFrame(grid.cv_results_)\n",
    "results.filter(regex = '(param.*|mean_t|std_t)') \\\n",
    "    .drop(columns = 'params') \\\n",
    "    .sort_values('mean_test_score', ascending = False) \\\n",
    "    .head(4)"
   ]
  },
  {
   "cell_type": "code",
   "execution_count": 16,
   "metadata": {},
   "outputs": [
    {
     "name": "stdout",
     "output_type": "stream",
     "text": [
      "--------------------------\n",
      "Best hyperparameters by cv\n",
      "--------------------------\n",
      "{'learning_rate': 0.1, 'max_depth': 3, 'max_features': 'auto', 'subsample': 1} : -14.063480148599941 neg_root_mean_squared_error\n"
     ]
    },
    {
     "name": "stderr",
     "output_type": "stream",
     "text": [
      "C:\\ProgramData\\Anaconda3\\lib\\site-packages\\ipykernel\\ipkernel.py:287: DeprecationWarning: `should_run_async` will not call `transform_cell` automatically in the future. Please pass the result to `transformed_cell` argument and any exception that happen during thetransform in `preprocessing_exc_tuple` in IPython 7.17 and above.\n",
      "  and should_run_async(code)\n"
     ]
    }
   ],
   "source": [
    "# Best hyperparameters by cv\n",
    "print(\"--------------------------\")\n",
    "print(\"Best hyperparameters by cv\")\n",
    "print(\"--------------------------\")\n",
    "print(grid.best_params_, \":\", grid.best_score_, grid.scoring)"
   ]
  },
  {
   "cell_type": "code",
   "execution_count": 17,
   "metadata": {},
   "outputs": [
    {
     "name": "stdout",
     "output_type": "stream",
     "text": [
      "rmse test: 60.22712986053597\n"
     ]
    }
   ],
   "source": [
    "# Error test \n",
    "model = grid.best_estimator_\n",
    "predictions = model.predict(X = X_test)\n",
    "rmse = mean_squared_error(\n",
    "        y_true  = y_test,\n",
    "        y_pred  = predictions,\n",
    "        squared = False\n",
    "       )\n",
    "print(f\"rmse test: {rmse}\")"
   ]
  },
  {
   "cell_type": "code",
   "execution_count": 18,
   "metadata": {},
   "outputs": [
    {
     "name": "stdout",
     "output_type": "stream",
     "text": [
      "Importance of predictors\n",
      "------------------------\n"
     ]
    },
    {
     "name": "stderr",
     "output_type": "stream",
     "text": [
      "C:\\ProgramData\\Anaconda3\\lib\\site-packages\\ipykernel\\ipkernel.py:287: DeprecationWarning: `should_run_async` will not call `transform_cell` automatically in the future. Please pass the result to `transformed_cell` argument and any exception that happen during thetransform in `preprocessing_exc_tuple` in IPython 7.17 and above.\n",
      "  and should_run_async(code)\n"
     ]
    },
    {
     "data": {
      "text/html": [
       "<div>\n",
       "<style scoped>\n",
       "    .dataframe tbody tr th:only-of-type {\n",
       "        vertical-align: middle;\n",
       "    }\n",
       "\n",
       "    .dataframe tbody tr th {\n",
       "        vertical-align: top;\n",
       "    }\n",
       "\n",
       "    .dataframe thead th {\n",
       "        text-align: right;\n",
       "    }\n",
       "</style>\n",
       "<table border=\"1\" class=\"dataframe\">\n",
       "  <thead>\n",
       "    <tr style=\"text-align: right;\">\n",
       "      <th></th>\n",
       "      <th>predictor</th>\n",
       "      <th>importance</th>\n",
       "    </tr>\n",
       "  </thead>\n",
       "  <tbody>\n",
       "    <tr>\n",
       "      <th>0</th>\n",
       "      <td>num_casos_prueba_pcr</td>\n",
       "      <td>0.992050</td>\n",
       "    </tr>\n",
       "    <tr>\n",
       "      <th>3</th>\n",
       "      <td>parks_percent_change_from_baseline</td>\n",
       "      <td>0.004198</td>\n",
       "    </tr>\n",
       "    <tr>\n",
       "      <th>6</th>\n",
       "      <td>residential_percent_change_from_baseline</td>\n",
       "      <td>0.001707</td>\n",
       "    </tr>\n",
       "    <tr>\n",
       "      <th>7</th>\n",
       "      <td>total</td>\n",
       "      <td>0.000514</td>\n",
       "    </tr>\n",
       "    <tr>\n",
       "      <th>2</th>\n",
       "      <td>grocery_and_pharmacy_percent_change_from_baseline</td>\n",
       "      <td>0.000475</td>\n",
       "    </tr>\n",
       "    <tr>\n",
       "      <th>5</th>\n",
       "      <td>workplaces_percent_change_from_baseline</td>\n",
       "      <td>0.000448</td>\n",
       "    </tr>\n",
       "    <tr>\n",
       "      <th>4</th>\n",
       "      <td>transit_stations_percent_change_from_baseline</td>\n",
       "      <td>0.000399</td>\n",
       "    </tr>\n",
       "    <tr>\n",
       "      <th>1</th>\n",
       "      <td>retail_and_recreation_percent_change_from_base...</td>\n",
       "      <td>0.000209</td>\n",
       "    </tr>\n",
       "  </tbody>\n",
       "</table>\n",
       "</div>"
      ],
      "text/plain": [
       "                                           predictor  importance\n",
       "0                               num_casos_prueba_pcr    0.992050\n",
       "3                 parks_percent_change_from_baseline    0.004198\n",
       "6           residential_percent_change_from_baseline    0.001707\n",
       "7                                              total    0.000514\n",
       "2  grocery_and_pharmacy_percent_change_from_baseline    0.000475\n",
       "5            workplaces_percent_change_from_baseline    0.000448\n",
       "4      transit_stations_percent_change_from_baseline    0.000399\n",
       "1  retail_and_recreation_percent_change_from_base...    0.000209"
      ]
     },
     "execution_count": 18,
     "metadata": {},
     "output_type": "execute_result"
    }
   ],
   "source": [
    "importance_predictors = pd.DataFrame({#'predictor': Cad.columns,\n",
    "                                    'predictor': Cad.drop(columns = 'num_casos.x').columns,\n",
    "                                      'importance': model.feature_importances_})\n",
    "print(\"Importance of predictors\")\n",
    "print(\"------------------------\")\n",
    "importance_predictors.sort_values('importance', ascending=False)"
   ]
  },
  {
   "cell_type": "code",
   "execution_count": 19,
   "metadata": {},
   "outputs": [
    {
     "name": "stderr",
     "output_type": "stream",
     "text": [
      "C:\\ProgramData\\Anaconda3\\lib\\site-packages\\ipykernel\\ipkernel.py:287: DeprecationWarning: `should_run_async` will not call `transform_cell` automatically in the future. Please pass the result to `transformed_cell` argument and any exception that happen during thetransform in `preprocessing_exc_tuple` in IPython 7.17 and above.\n",
      "  and should_run_async(code)\n"
     ]
    },
    {
     "data": {
      "text/html": [
       "<div>\n",
       "<style scoped>\n",
       "    .dataframe tbody tr th:only-of-type {\n",
       "        vertical-align: middle;\n",
       "    }\n",
       "\n",
       "    .dataframe tbody tr th {\n",
       "        vertical-align: top;\n",
       "    }\n",
       "\n",
       "    .dataframe thead th {\n",
       "        text-align: right;\n",
       "    }\n",
       "</style>\n",
       "<table border=\"1\" class=\"dataframe\">\n",
       "  <thead>\n",
       "    <tr style=\"text-align: right;\">\n",
       "      <th></th>\n",
       "      <th>importances_mean</th>\n",
       "      <th>importances_std</th>\n",
       "      <th>feature</th>\n",
       "    </tr>\n",
       "  </thead>\n",
       "  <tbody>\n",
       "    <tr>\n",
       "      <th>0</th>\n",
       "      <td>179.256190</td>\n",
       "      <td>3.486350</td>\n",
       "      <td>num_casos_prueba_pcr</td>\n",
       "    </tr>\n",
       "    <tr>\n",
       "      <th>3</th>\n",
       "      <td>3.813036</td>\n",
       "      <td>0.217293</td>\n",
       "      <td>parks_percent_change_from_baseline</td>\n",
       "    </tr>\n",
       "    <tr>\n",
       "      <th>6</th>\n",
       "      <td>0.765762</td>\n",
       "      <td>0.074297</td>\n",
       "      <td>residential_percent_change_from_baseline</td>\n",
       "    </tr>\n",
       "    <tr>\n",
       "      <th>7</th>\n",
       "      <td>0.723144</td>\n",
       "      <td>0.161094</td>\n",
       "      <td>total</td>\n",
       "    </tr>\n",
       "    <tr>\n",
       "      <th>2</th>\n",
       "      <td>0.349850</td>\n",
       "      <td>0.055652</td>\n",
       "      <td>grocery_and_pharmacy_percent_change_from_baseline</td>\n",
       "    </tr>\n",
       "    <tr>\n",
       "      <th>5</th>\n",
       "      <td>0.302140</td>\n",
       "      <td>0.151518</td>\n",
       "      <td>workplaces_percent_change_from_baseline</td>\n",
       "    </tr>\n",
       "    <tr>\n",
       "      <th>4</th>\n",
       "      <td>0.273565</td>\n",
       "      <td>0.039790</td>\n",
       "      <td>transit_stations_percent_change_from_baseline</td>\n",
       "    </tr>\n",
       "    <tr>\n",
       "      <th>1</th>\n",
       "      <td>0.067531</td>\n",
       "      <td>0.022022</td>\n",
       "      <td>retail_and_recreation_percent_change_from_base...</td>\n",
       "    </tr>\n",
       "  </tbody>\n",
       "</table>\n",
       "</div>"
      ],
      "text/plain": [
       "   importances_mean  importances_std  \\\n",
       "0        179.256190         3.486350   \n",
       "3          3.813036         0.217293   \n",
       "6          0.765762         0.074297   \n",
       "7          0.723144         0.161094   \n",
       "2          0.349850         0.055652   \n",
       "5          0.302140         0.151518   \n",
       "4          0.273565         0.039790   \n",
       "1          0.067531         0.022022   \n",
       "\n",
       "                                             feature  \n",
       "0                               num_casos_prueba_pcr  \n",
       "3                 parks_percent_change_from_baseline  \n",
       "6           residential_percent_change_from_baseline  \n",
       "7                                              total  \n",
       "2  grocery_and_pharmacy_percent_change_from_baseline  \n",
       "5            workplaces_percent_change_from_baseline  \n",
       "4      transit_stations_percent_change_from_baseline  \n",
       "1  retail_and_recreation_percent_change_from_base...  "
      ]
     },
     "execution_count": 19,
     "metadata": {},
     "output_type": "execute_result"
    }
   ],
   "source": [
    "importance = permutation_importance(\n",
    "                estimator    = model,\n",
    "                X            = X_train,\n",
    "                y            = y_train,\n",
    "                n_repeats    = 5,\n",
    "                scoring      = 'neg_root_mean_squared_error',\n",
    "                n_jobs       = multiprocessing.cpu_count() - 1,\n",
    "                random_state = 123\n",
    "             )\n",
    "\n",
    "# Store results (mean / sd) \n",
    "df_importance = pd.DataFrame(\n",
    "                    {k: importance[k] for k in ['importances_mean', 'importances_std']}\n",
    "                 )\n",
    "df_importance['feature'] = X_train.columns\n",
    "df_importance.sort_values('importances_mean', ascending=False)"
   ]
  },
  {
   "cell_type": "code",
   "execution_count": 20,
   "metadata": {},
   "outputs": [
    {
     "name": "stdout",
     "output_type": "stream",
     "text": [
      "MAE: 52.69392\n",
      "RMSE: 60.22713\n"
     ]
    },
    {
     "name": "stderr",
     "output_type": "stream",
     "text": [
      "C:\\ProgramData\\Anaconda3\\lib\\site-packages\\ipykernel\\ipkernel.py:287: DeprecationWarning: `should_run_async` will not call `transform_cell` automatically in the future. Please pass the result to `transformed_cell` argument and any exception that happen during thetransform in `preprocessing_exc_tuple` in IPython 7.17 and above.\n",
      "  and should_run_async(code)\n"
     ]
    }
   ],
   "source": [
    "# Calculate the mean absolute error (MAE)\n",
    "mae = mean_absolute_error(predictions, y_test)\n",
    "print('MAE: ' + str(round(mae, 5)))\n",
    "\n",
    "# Calculate the root mean squarred error (RMSE)\n",
    "rmse = np.sqrt(mean_squared_error(y_test,predictions))\n",
    "print('RMSE: ' + str(round(rmse, 5)))"
   ]
  },
  {
   "cell_type": "code",
   "execution_count": 21,
   "metadata": {},
   "outputs": [
    {
     "name": "stderr",
     "output_type": "stream",
     "text": [
      "C:\\ProgramData\\Anaconda3\\lib\\site-packages\\ipykernel\\ipkernel.py:287: DeprecationWarning: `should_run_async` will not call `transform_cell` automatically in the future. Please pass the result to `transformed_cell` argument and any exception that happen during thetransform in `preprocessing_exc_tuple` in IPython 7.17 and above.\n",
      "  and should_run_async(code)\n"
     ]
    },
    {
     "data": {
      "text/html": [
       "<div>\n",
       "<style scoped>\n",
       "    .dataframe tbody tr th:only-of-type {\n",
       "        vertical-align: middle;\n",
       "    }\n",
       "\n",
       "    .dataframe tbody tr th {\n",
       "        vertical-align: top;\n",
       "    }\n",
       "\n",
       "    .dataframe thead th {\n",
       "        text-align: right;\n",
       "    }\n",
       "</style>\n",
       "<table border=\"1\" class=\"dataframe\">\n",
       "  <thead>\n",
       "    <tr style=\"text-align: right;\">\n",
       "      <th></th>\n",
       "      <th>Pred</th>\n",
       "      <th>yt</th>\n",
       "    </tr>\n",
       "  </thead>\n",
       "  <tbody>\n",
       "    <tr>\n",
       "      <th>0</th>\n",
       "      <td>117.665262</td>\n",
       "      <td>140</td>\n",
       "    </tr>\n",
       "    <tr>\n",
       "      <th>1</th>\n",
       "      <td>123.799842</td>\n",
       "      <td>158</td>\n",
       "    </tr>\n",
       "    <tr>\n",
       "      <th>2</th>\n",
       "      <td>136.532269</td>\n",
       "      <td>153</td>\n",
       "    </tr>\n",
       "    <tr>\n",
       "      <th>3</th>\n",
       "      <td>121.832558</td>\n",
       "      <td>157</td>\n",
       "    </tr>\n",
       "    <tr>\n",
       "      <th>4</th>\n",
       "      <td>141.004841</td>\n",
       "      <td>190</td>\n",
       "    </tr>\n",
       "    <tr>\n",
       "      <th>5</th>\n",
       "      <td>136.532269</td>\n",
       "      <td>146</td>\n",
       "    </tr>\n",
       "    <tr>\n",
       "      <th>6</th>\n",
       "      <td>112.022508</td>\n",
       "      <td>138</td>\n",
       "    </tr>\n",
       "    <tr>\n",
       "      <th>7</th>\n",
       "      <td>120.775663</td>\n",
       "      <td>171</td>\n",
       "    </tr>\n",
       "    <tr>\n",
       "      <th>8</th>\n",
       "      <td>144.159020</td>\n",
       "      <td>191</td>\n",
       "    </tr>\n",
       "    <tr>\n",
       "      <th>9</th>\n",
       "      <td>157.834525</td>\n",
       "      <td>222</td>\n",
       "    </tr>\n",
       "    <tr>\n",
       "      <th>10</th>\n",
       "      <td>159.401701</td>\n",
       "      <td>195</td>\n",
       "    </tr>\n",
       "    <tr>\n",
       "      <th>11</th>\n",
       "      <td>119.618124</td>\n",
       "      <td>178</td>\n",
       "    </tr>\n",
       "    <tr>\n",
       "      <th>12</th>\n",
       "      <td>154.155876</td>\n",
       "      <td>211</td>\n",
       "    </tr>\n",
       "    <tr>\n",
       "      <th>13</th>\n",
       "      <td>173.095042</td>\n",
       "      <td>256</td>\n",
       "    </tr>\n",
       "    <tr>\n",
       "      <th>14</th>\n",
       "      <td>245.722347</td>\n",
       "      <td>353</td>\n",
       "    </tr>\n",
       "    <tr>\n",
       "      <th>15</th>\n",
       "      <td>230.786282</td>\n",
       "      <td>329</td>\n",
       "    </tr>\n",
       "    <tr>\n",
       "      <th>16</th>\n",
       "      <td>202.265224</td>\n",
       "      <td>305</td>\n",
       "    </tr>\n",
       "  </tbody>\n",
       "</table>\n",
       "</div>"
      ],
      "text/plain": [
       "          Pred   yt\n",
       "0   117.665262  140\n",
       "1   123.799842  158\n",
       "2   136.532269  153\n",
       "3   121.832558  157\n",
       "4   141.004841  190\n",
       "5   136.532269  146\n",
       "6   112.022508  138\n",
       "7   120.775663  171\n",
       "8   144.159020  191\n",
       "9   157.834525  222\n",
       "10  159.401701  195\n",
       "11  119.618124  178\n",
       "12  154.155876  211\n",
       "13  173.095042  256\n",
       "14  245.722347  353\n",
       "15  230.786282  329\n",
       "16  202.265224  305"
      ]
     },
     "execution_count": 21,
     "metadata": {},
     "output_type": "execute_result"
    }
   ],
   "source": [
    "predictions_df = pd.DataFrame(predictions)\n",
    "predictions_df.rename(columns={0:'Pred'},inplace=True)\n",
    "y_test_df=pd.DataFrame(y_test)\n",
    "y_test_df.reset_index(drop=True, inplace=True)\n",
    "y_test_df\n",
    "predictions_df['yt']=y_test_df['num_casos.x']\n",
    "predictions_df"
   ]
  },
  {
   "cell_type": "code",
   "execution_count": 22,
   "metadata": {},
   "outputs": [
    {
     "name": "stderr",
     "output_type": "stream",
     "text": [
      "C:\\ProgramData\\Anaconda3\\lib\\site-packages\\ipykernel\\ipkernel.py:287: DeprecationWarning: `should_run_async` will not call `transform_cell` automatically in the future. Please pass the result to `transformed_cell` argument and any exception that happen during thetransform in `preprocessing_exc_tuple` in IPython 7.17 and above.\n",
      "  and should_run_async(code)\n"
     ]
    },
    {
     "data": {
      "image/png": "[encoded data removed]",
      "text/plain": [
       "<Figure size 432x288 with 1 Axes>"
      ]
     },
     "metadata": {
      "needs_background": "light"
     },
     "output_type": "display_data"
    }
   ],
   "source": [
    "_ = predictions_df.plot()"
   ]
  },
  {
   "cell_type": "markdown",
   "metadata": {},
   "source": [
    "## XGboost (Supervised)"
   ]
  },
  {
   "cell_type": "markdown",
   "metadata": {},
   "source": [
    "Brownlee, J., 2021. How to Use XGBoost for Time Series Forecasting. [online] Machine Learning Mastery. Available at: <https://machinelearningmastery.com/xgboost-for-time-series-forecasting/> [Accessed 17 May 2021]."
   ]
  },
  {
   "cell_type": "code",
   "execution_count": 23,
   "metadata": {},
   "outputs": [
    {
     "name": "stderr",
     "output_type": "stream",
     "text": [
      "C:\\ProgramData\\Anaconda3\\lib\\site-packages\\ipykernel\\ipkernel.py:287: DeprecationWarning: `should_run_async` will not call `transform_cell` automatically in the future. Please pass the result to `transformed_cell` argument and any exception that happen during thetransform in `preprocessing_exc_tuple` in IPython 7.17 and above.\n",
      "  and should_run_async(code)\n",
      "C:\\ProgramData\\Anaconda3\\lib\\site-packages\\xgboost\\data.py:119: UserWarning: Use subset (sliced data) of np.ndarray is not recommended because it will generate extra copies and increase memory consumption\n",
      "  warnings.warn(\n"
     ]
    },
    {
     "name": "stdout",
     "output_type": "stream",
     "text": [
      ">expected=140.0, predicted=103.3\n",
      ">expected=158.0, predicted=177.8\n",
      ">expected=153.0, predicted=146.9\n",
      ">expected=157.0, predicted=177.7\n",
      ">expected=190.0, predicted=139.5\n",
      ">expected=146.0, predicted=178.4\n",
      ">expected=138.0, predicted=139.7\n",
      ">expected=171.0, predicted=164.8\n",
      ">expected=191.0, predicted=160.8\n",
      ">expected=222.0, predicted=166.5\n",
      ">expected=195.0, predicted=212.6\n",
      ">expected=178.0, predicted=199.7\n",
      ">expected=211.0, predicted=200.5\n",
      ">expected=256.0, predicted=197.5\n",
      ">expected=353.0, predicted=276.8\n",
      ">expected=329.0, predicted=295.2\n",
      ">expected=305.0, predicted=334.1\n",
      "RMSE: 35.949\n"
     ]
    },
    {
     "data": {
      "image/png": "[encoded data removed]",
      "text/plain": [
       "<Figure size 432x288 with 1 Axes>"
      ]
     },
     "metadata": {
      "needs_background": "light"
     },
     "output_type": "display_data"
    }
   ],
   "source": [
    "from numpy import asarray\n",
    "from pandas import DataFrame\n",
    "from pandas import concat\n",
    "from xgboost import XGBRegressor\n",
    "from matplotlib import pyplot\n",
    " \n",
    "# transform a time series dataset into a supervised learning dataset\n",
    "def series_to_supervised(data, n_in=1, n_out=1, dropnan=True):\n",
    "\tn_vars = 1 if type(data) is list else data.shape[0]\n",
    "\tdf = DataFrame(data)\n",
    "\tcols = list()\n",
    "\t# input sequence (t-n, ... t-1)\n",
    "\tfor i in range(n_in, 0, -1):\n",
    "\t\tcols.append(df.shift(i))\n",
    "\t# forecast sequence (t, t+1, ... t+n)\n",
    "\tfor i in range(0, n_out):\n",
    "\t\tcols.append(df.shift(-i))\n",
    "\t# put it all together\n",
    "\tagg = concat(cols, axis=1)\n",
    "\t# drop rows with NaN values\n",
    "\tif dropnan:\n",
    "\t\tagg.dropna(inplace=True)\n",
    "\treturn agg.values\n",
    " \n",
    "# split a univariate dataset into train/test sets\n",
    "def train_test_split(data, n_test):\n",
    "\treturn data[:-n_test, :], data[-n_test:, :]\n",
    " \n",
    "# fit an xgboost model and make a one step prediction\n",
    "def xgboost_forecast(train, testX):\n",
    "\t# transform list into array\n",
    "\ttrain = asarray(train)\n",
    "\t# split into input and output columns\n",
    "\ttrainX, trainy = train[:, :-1], train[:, -1]\n",
    "\t# fit model\n",
    "\tmodel = XGBRegressor(objective='reg:squarederror', n_estimators=1000)\n",
    "\tmodel.fit(trainX, trainy)\n",
    "\t# make a one-step prediction\n",
    "\tyhat = model.predict(asarray([testX]))\n",
    "\treturn yhat[0]\n",
    " \n",
    "# walk-forward validation for univariate data\n",
    "def walk_forward_validation(data, n_test):\n",
    "\tpredictions = list()\n",
    "\t# split dataset\n",
    "\ttrain, test = train_test_split(data, n_test)\n",
    "\t# seed history with training dataset\n",
    "\thistory = [x for x in train]\n",
    "\t# step over each time-step in the test set\n",
    "\tfor i in range(len(test)):\n",
    "\t\t# split test row into input and output columns\n",
    "\t\ttestX, testy = test[i, :-1], test[i, -1]\n",
    "\t\t# fit model on history and make a prediction\n",
    "\t\tyhat = xgboost_forecast(history, testX)\n",
    "\t\t# store forecast in list of predictions\n",
    "\t\tpredictions.append(yhat)\n",
    "\t\t# add actual observation to history for the next loop\n",
    "\t\thistory.append(test[i])\n",
    "\t\t# summarize progress\n",
    "\t\tprint('>expected=%.1f, predicted=%.1f' % (testy, yhat))\n",
    "\t# estimate prediction error\n",
    "\terror = mean_squared_error(test[:, -1], predictions, squared = False)\n",
    "    #error = mean_absolute_error(test[:, -1], predictions)\n",
    "\treturn error, test[:, -1], predictions\n",
    " \n",
    "# load the dataset\n",
    "values = Cad['num_casos.x'].values\n",
    "# transform the time series data into supervised learning\n",
    "data = series_to_supervised(values, n_in=14)\n",
    "# evaluate\n",
    "mae, y, yhat = walk_forward_validation(data,17)\n",
    "#print('MAE: %.3f' % mae)\n",
    "print('RMSE: %.3f' % mae)\n",
    "# plot expected vs preducted\n",
    "plt.plot(y, label='Expected')\n",
    "plt.plot(yhat, label='Predicted')\n",
    "plt.legend()\n",
    "plt.show()"
   ]
  }
 ],
 "metadata": {
  "kernelspec": {
   "display_name": "Python 3",
   "language": "python",
   "name": "python3"
  },
  "language_info": {
   "codemirror_mode": {
    "name": "ipython",
    "version": 3
   },
   "file_extension": ".py",
   "mimetype": "text/x-python",
   "name": "python",
   "nbconvert_exporter": "python",
   "pygments_lexer": "ipython3",
   "version": "3.8.5"
  }
 },
 "nbformat": 4,
 "nbformat_minor": 4
}
